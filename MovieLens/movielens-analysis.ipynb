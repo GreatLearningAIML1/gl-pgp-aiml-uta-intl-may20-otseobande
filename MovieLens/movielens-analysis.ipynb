{
 "cells": [
  {
   "cell_type": "markdown",
   "metadata": {},
   "source": [
    "### Project - MovieLens Data Analysis\n",
    "\n",
    "The GroupLens Research Project is a research group in the Department of Computer Science and Engineering at the University of Minnesota. The data is widely used for collaborative filtering and other filtering solutions. However, we will be using this data to act as a means to demonstrate our skill in using Python to “play” with data.\n",
    "\n",
    "#### Domain \n",
    "Internet and Entertainment\n",
    "\n",
    "**Note that the project will need you to apply the concepts of groupby and merging extensively.**"
   ]
  },
  {
   "cell_type": "code",
   "execution_count": null,
   "metadata": {},
   "outputs": [],
   "source": []
  },
  {
   "cell_type": "markdown",
   "metadata": {},
   "source": [
    "#### 1. Import the necessary packages - 2.5 marks"
   ]
  },
  {
   "cell_type": "code",
   "execution_count": 30,
   "metadata": {},
   "outputs": [],
   "source": [
    "import pandas as pd\n",
    "import numpy as np\n",
    "import seaborn as sns\n",
    "import matplotlib.pyplot as plt  # seaborn is based on matplotlib\n",
    "\n",
    "pd.options.display.float_format = '{:.1f}'.format\n",
    "\n",
    "sns.set(color_codes=True) # adds a nice background to the graphs\n",
    "%matplotlib inline "
   ]
  },
  {
   "cell_type": "markdown",
   "metadata": {},
   "source": [
    "#### 2. Read the 3 datasets into dataframes - 2.5 marks"
   ]
  },
  {
   "cell_type": "code",
   "execution_count": 31,
   "metadata": {
    "scrolled": true
   },
   "outputs": [],
   "source": [
    "user_ratings_df = pd.read_csv('Data.csv')\n",
    "movies_df = pd.read_csv('item.csv')\n",
    "users_df = pd.read_csv('user.csv')"
   ]
  },
  {
   "cell_type": "markdown",
   "metadata": {},
   "source": [
    "#### 3. Apply info, shape, describe, and find the number of missing values in the data - 5 marks"
   ]
  },
  {
   "cell_type": "code",
   "execution_count": 32,
   "metadata": {},
   "outputs": [
    {
     "name": "stdout",
     "output_type": "stream",
     "text": [
      "----------User Ratings DF Info-------------\n",
      "<class 'pandas.core.frame.DataFrame'>\n",
      "RangeIndex: 100000 entries, 0 to 99999\n",
      "Data columns (total 4 columns):\n",
      " #   Column     Non-Null Count   Dtype\n",
      "---  ------     --------------   -----\n",
      " 0   user id    100000 non-null  int64\n",
      " 1   movie id   100000 non-null  int64\n",
      " 2   rating     100000 non-null  int64\n",
      " 3   timestamp  100000 non-null  int64\n",
      "dtypes: int64(4)\n",
      "memory usage: 3.1 MB\n",
      "None\n",
      "------------------------------\n",
      "User Ratings shape: (100000, 4)\n",
      "------------------------------\n",
      "Number of missing values for User Ratings: 0\n",
      "----------User Ratings DF Describe-------------\n",
      "       user id  movie id   rating   timestamp\n",
      "count 100000.0  100000.0 100000.0    100000.0\n",
      "mean     462.5     425.5      3.5 883528851.5\n",
      "std      266.6     330.8      1.1   5343856.2\n",
      "min        1.0       1.0      1.0 874724710.0\n",
      "25%      254.0     175.0      3.0 879448709.5\n",
      "50%      447.0     322.0      4.0 882826944.0\n",
      "75%      682.0     631.0      4.0 888259984.0\n",
      "max      943.0    1682.0      5.0 893286638.0\n",
      "------------------------------\n",
      "----------Movies DF Info-------------\n",
      "<class 'pandas.core.frame.DataFrame'>\n",
      "RangeIndex: 1681 entries, 0 to 1680\n",
      "Data columns (total 22 columns):\n",
      " #   Column        Non-Null Count  Dtype \n",
      "---  ------        --------------  ----- \n",
      " 0   movie id      1681 non-null   int64 \n",
      " 1   movie title   1681 non-null   object\n",
      " 2   release date  1681 non-null   object\n",
      " 3   unknown       1681 non-null   int64 \n",
      " 4   Action        1681 non-null   int64 \n",
      " 5   Adventure     1681 non-null   int64 \n",
      " 6   Animation     1681 non-null   int64 \n",
      " 7   Childrens     1681 non-null   int64 \n",
      " 8   Comedy        1681 non-null   int64 \n",
      " 9   Crime         1681 non-null   int64 \n",
      " 10  Documentary   1681 non-null   int64 \n",
      " 11  Drama         1681 non-null   int64 \n",
      " 12  Fantasy       1681 non-null   int64 \n",
      " 13  Film-Noir     1681 non-null   int64 \n",
      " 14  Horror        1681 non-null   int64 \n",
      " 15  Musical       1681 non-null   int64 \n",
      " 16  Mystery       1681 non-null   int64 \n",
      " 17  Romance       1681 non-null   int64 \n",
      " 18  Sci-Fi        1681 non-null   int64 \n",
      " 19  Thriller      1681 non-null   int64 \n",
      " 20  War           1681 non-null   int64 \n",
      " 21  Western       1681 non-null   int64 \n",
      "dtypes: int64(20), object(2)\n",
      "memory usage: 289.0+ KB\n",
      "None\n",
      "------------------------------\n",
      "Movies shape: (1681, 22)\n",
      "------------------------------\n",
      "Number of missing values for Movies: 0\n",
      "----------Movies DF Describe-------------\n",
      "       movie id  unknown  Action  Adventure  Animation  Childrens  Comedy  \\\n",
      "count    1681.0   1681.0  1681.0     1681.0     1681.0     1681.0  1681.0   \n",
      "mean      841.8      0.0     0.1        0.1        0.0        0.1     0.3   \n",
      "std       485.6      0.0     0.4        0.3        0.2        0.3     0.5   \n",
      "min         1.0      0.0     0.0        0.0        0.0        0.0     0.0   \n",
      "25%       422.0      0.0     0.0        0.0        0.0        0.0     0.0   \n",
      "50%       842.0      0.0     0.0        0.0        0.0        0.0     0.0   \n",
      "75%      1262.0      0.0     0.0        0.0        0.0        0.0     1.0   \n",
      "max      1682.0      1.0     1.0        1.0        1.0        1.0     1.0   \n",
      "\n",
      "       Crime  Documentary  Drama  Fantasy  Film-Noir  Horror  Musical  \\\n",
      "count 1681.0       1681.0 1681.0   1681.0     1681.0  1681.0   1681.0   \n",
      "mean     0.1          0.0    0.4      0.0        0.0     0.1      0.0   \n",
      "std      0.2          0.2    0.5      0.1        0.1     0.2      0.2   \n",
      "min      0.0          0.0    0.0      0.0        0.0     0.0      0.0   \n",
      "25%      0.0          0.0    0.0      0.0        0.0     0.0      0.0   \n",
      "50%      0.0          0.0    0.0      0.0        0.0     0.0      0.0   \n",
      "75%      0.0          0.0    1.0      0.0        0.0     0.0      0.0   \n",
      "max      1.0          1.0    1.0      1.0        1.0     1.0      1.0   \n",
      "\n",
      "       Mystery  Romance  Sci-Fi  Thriller    War  Western  \n",
      "count   1681.0   1681.0  1681.0    1681.0 1681.0   1681.0  \n",
      "mean       0.0      0.1     0.1       0.1    0.0      0.0  \n",
      "std        0.2      0.4     0.2       0.4    0.2      0.1  \n",
      "min        0.0      0.0     0.0       0.0    0.0      0.0  \n",
      "25%        0.0      0.0     0.0       0.0    0.0      0.0  \n",
      "50%        0.0      0.0     0.0       0.0    0.0      0.0  \n",
      "75%        0.0      0.0     0.0       0.0    0.0      0.0  \n",
      "max        1.0      1.0     1.0       1.0    1.0      1.0  \n",
      "------------------------------\n",
      "----------Users DF Info-------------\n",
      "<class 'pandas.core.frame.DataFrame'>\n",
      "RangeIndex: 943 entries, 0 to 942\n",
      "Data columns (total 5 columns):\n",
      " #   Column      Non-Null Count  Dtype \n",
      "---  ------      --------------  ----- \n",
      " 0   user id     943 non-null    int64 \n",
      " 1   age         943 non-null    int64 \n",
      " 2   gender      943 non-null    object\n",
      " 3   occupation  943 non-null    object\n",
      " 4   zip code    943 non-null    object\n",
      "dtypes: int64(2), object(3)\n",
      "memory usage: 37.0+ KB\n",
      "None\n",
      "------------------------------\n",
      "Users shape: (943, 5)\n",
      "------------------------------\n",
      "Number of missing values for Users: 0\n",
      "----------Users DF Describe-------------\n",
      "       user id   age\n",
      "count    943.0 943.0\n",
      "mean     472.0  34.1\n",
      "std      272.4  12.2\n",
      "min        1.0   7.0\n",
      "25%      236.5  25.0\n",
      "50%      472.0  31.0\n",
      "75%      707.5  43.0\n",
      "max      943.0  73.0\n",
      "------------------------------\n"
     ]
    }
   ],
   "source": [
    "def get_df_info(df, name):\n",
    "    print('----------{} DF Info-------------'.format(name))\n",
    "    print(df.info())\n",
    "    print('------------------------------')\n",
    "    print('{0} shape: {1}'.format(name, df.shape))\n",
    "    print('------------------------------')\n",
    "    print('Number of missing values for {0}: {1}'.format(name, df.isnull().sum().sum()))\n",
    "    print('----------{} DF Describe-------------'.format(name))\n",
    "    print(df.describe())\n",
    "    print('------------------------------')\n",
    "\n",
    "get_df_info(user_ratings_df, 'User Ratings')\n",
    "get_df_info(movies_df, 'Movies')\n",
    "get_df_info(users_df, 'Users')"
   ]
  },
  {
   "cell_type": "markdown",
   "metadata": {},
   "source": [
    "#### 4. Find the number of movies per genre using the item data - 5 marks"
   ]
  },
  {
   "cell_type": "code",
   "execution_count": 33,
   "metadata": {
    "scrolled": true
   },
   "outputs": [
    {
     "data": {
      "text/plain": [
       "movie id                                                  1415136\n",
       "movie title     Toy Story GoldenEye Four Rooms Get Shorty Copy...\n",
       "release date    01-Jan-199501-Jan-199501-Jan-199501-Jan-199501...\n",
       "unknown                                                         1\n",
       "Action                                                        251\n",
       "Adventure                                                     135\n",
       "Animation                                                      42\n",
       "Childrens                                                     122\n",
       "Comedy                                                        505\n",
       "Crime                                                         109\n",
       "Documentary                                                    50\n",
       "Drama                                                         725\n",
       "Fantasy                                                        22\n",
       "Film-Noir                                                      24\n",
       "Horror                                                         92\n",
       "Musical                                                        56\n",
       "Mystery                                                        61\n",
       "Romance                                                       247\n",
       "Sci-Fi                                                        101\n",
       "Thriller                                                      251\n",
       "War                                                            71\n",
       "Western                                                        27\n",
       "dtype: object"
      ]
     },
     "execution_count": 33,
     "metadata": {},
     "output_type": "execute_result"
    }
   ],
   "source": [
    "# use sum on the default axis\n",
    "\n",
    "movies_df.sum()"
   ]
  },
  {
   "cell_type": "markdown",
   "metadata": {},
   "source": [
    "#### 5. Find the movies that have more than one genre - 2.5 marks"
   ]
  },
  {
   "cell_type": "code",
   "execution_count": 34,
   "metadata": {},
   "outputs": [
    {
     "data": {
      "text/html": [
       "<div>\n",
       "<style scoped>\n",
       "    .dataframe tbody tr th:only-of-type {\n",
       "        vertical-align: middle;\n",
       "    }\n",
       "\n",
       "    .dataframe tbody tr th {\n",
       "        vertical-align: top;\n",
       "    }\n",
       "\n",
       "    .dataframe thead th {\n",
       "        text-align: right;\n",
       "    }\n",
       "</style>\n",
       "<table border=\"1\" class=\"dataframe\">\n",
       "  <thead>\n",
       "    <tr style=\"text-align: right;\">\n",
       "      <th></th>\n",
       "      <th>movie id</th>\n",
       "      <th>movie title</th>\n",
       "      <th>release date</th>\n",
       "      <th>unknown</th>\n",
       "      <th>Action</th>\n",
       "      <th>Adventure</th>\n",
       "      <th>Animation</th>\n",
       "      <th>Childrens</th>\n",
       "      <th>Comedy</th>\n",
       "      <th>Crime</th>\n",
       "      <th>...</th>\n",
       "      <th>Fantasy</th>\n",
       "      <th>Film-Noir</th>\n",
       "      <th>Horror</th>\n",
       "      <th>Musical</th>\n",
       "      <th>Mystery</th>\n",
       "      <th>Romance</th>\n",
       "      <th>Sci-Fi</th>\n",
       "      <th>Thriller</th>\n",
       "      <th>War</th>\n",
       "      <th>Western</th>\n",
       "    </tr>\n",
       "  </thead>\n",
       "  <tbody>\n",
       "    <tr>\n",
       "      <th>0</th>\n",
       "      <td>1</td>\n",
       "      <td>Toy Story</td>\n",
       "      <td>01-Jan-1995</td>\n",
       "      <td>0</td>\n",
       "      <td>0</td>\n",
       "      <td>0</td>\n",
       "      <td>1</td>\n",
       "      <td>1</td>\n",
       "      <td>1</td>\n",
       "      <td>0</td>\n",
       "      <td>...</td>\n",
       "      <td>0</td>\n",
       "      <td>0</td>\n",
       "      <td>0</td>\n",
       "      <td>0</td>\n",
       "      <td>0</td>\n",
       "      <td>0</td>\n",
       "      <td>0</td>\n",
       "      <td>0</td>\n",
       "      <td>0</td>\n",
       "      <td>0</td>\n",
       "    </tr>\n",
       "    <tr>\n",
       "      <th>1</th>\n",
       "      <td>2</td>\n",
       "      <td>GoldenEye</td>\n",
       "      <td>01-Jan-1995</td>\n",
       "      <td>0</td>\n",
       "      <td>1</td>\n",
       "      <td>1</td>\n",
       "      <td>0</td>\n",
       "      <td>0</td>\n",
       "      <td>0</td>\n",
       "      <td>0</td>\n",
       "      <td>...</td>\n",
       "      <td>0</td>\n",
       "      <td>0</td>\n",
       "      <td>0</td>\n",
       "      <td>0</td>\n",
       "      <td>0</td>\n",
       "      <td>0</td>\n",
       "      <td>0</td>\n",
       "      <td>1</td>\n",
       "      <td>0</td>\n",
       "      <td>0</td>\n",
       "    </tr>\n",
       "    <tr>\n",
       "      <th>3</th>\n",
       "      <td>4</td>\n",
       "      <td>Get Shorty</td>\n",
       "      <td>01-Jan-1995</td>\n",
       "      <td>0</td>\n",
       "      <td>1</td>\n",
       "      <td>0</td>\n",
       "      <td>0</td>\n",
       "      <td>0</td>\n",
       "      <td>1</td>\n",
       "      <td>0</td>\n",
       "      <td>...</td>\n",
       "      <td>0</td>\n",
       "      <td>0</td>\n",
       "      <td>0</td>\n",
       "      <td>0</td>\n",
       "      <td>0</td>\n",
       "      <td>0</td>\n",
       "      <td>0</td>\n",
       "      <td>0</td>\n",
       "      <td>0</td>\n",
       "      <td>0</td>\n",
       "    </tr>\n",
       "    <tr>\n",
       "      <th>4</th>\n",
       "      <td>5</td>\n",
       "      <td>Copycat</td>\n",
       "      <td>01-Jan-1995</td>\n",
       "      <td>0</td>\n",
       "      <td>0</td>\n",
       "      <td>0</td>\n",
       "      <td>0</td>\n",
       "      <td>0</td>\n",
       "      <td>0</td>\n",
       "      <td>1</td>\n",
       "      <td>...</td>\n",
       "      <td>0</td>\n",
       "      <td>0</td>\n",
       "      <td>0</td>\n",
       "      <td>0</td>\n",
       "      <td>0</td>\n",
       "      <td>0</td>\n",
       "      <td>0</td>\n",
       "      <td>1</td>\n",
       "      <td>0</td>\n",
       "      <td>0</td>\n",
       "    </tr>\n",
       "    <tr>\n",
       "      <th>6</th>\n",
       "      <td>7</td>\n",
       "      <td>Twelve Monkeys</td>\n",
       "      <td>01-Jan-1995</td>\n",
       "      <td>0</td>\n",
       "      <td>0</td>\n",
       "      <td>0</td>\n",
       "      <td>0</td>\n",
       "      <td>0</td>\n",
       "      <td>0</td>\n",
       "      <td>0</td>\n",
       "      <td>...</td>\n",
       "      <td>0</td>\n",
       "      <td>0</td>\n",
       "      <td>0</td>\n",
       "      <td>0</td>\n",
       "      <td>0</td>\n",
       "      <td>0</td>\n",
       "      <td>1</td>\n",
       "      <td>0</td>\n",
       "      <td>0</td>\n",
       "      <td>0</td>\n",
       "    </tr>\n",
       "    <tr>\n",
       "      <th>...</th>\n",
       "      <td>...</td>\n",
       "      <td>...</td>\n",
       "      <td>...</td>\n",
       "      <td>...</td>\n",
       "      <td>...</td>\n",
       "      <td>...</td>\n",
       "      <td>...</td>\n",
       "      <td>...</td>\n",
       "      <td>...</td>\n",
       "      <td>...</td>\n",
       "      <td>...</td>\n",
       "      <td>...</td>\n",
       "      <td>...</td>\n",
       "      <td>...</td>\n",
       "      <td>...</td>\n",
       "      <td>...</td>\n",
       "      <td>...</td>\n",
       "      <td>...</td>\n",
       "      <td>...</td>\n",
       "      <td>...</td>\n",
       "      <td>...</td>\n",
       "    </tr>\n",
       "    <tr>\n",
       "      <th>1667</th>\n",
       "      <td>1669</td>\n",
       "      <td>MURDER and murder</td>\n",
       "      <td>20-Jun-1997</td>\n",
       "      <td>0</td>\n",
       "      <td>0</td>\n",
       "      <td>0</td>\n",
       "      <td>0</td>\n",
       "      <td>0</td>\n",
       "      <td>0</td>\n",
       "      <td>1</td>\n",
       "      <td>...</td>\n",
       "      <td>0</td>\n",
       "      <td>0</td>\n",
       "      <td>0</td>\n",
       "      <td>0</td>\n",
       "      <td>1</td>\n",
       "      <td>0</td>\n",
       "      <td>0</td>\n",
       "      <td>0</td>\n",
       "      <td>0</td>\n",
       "      <td>0</td>\n",
       "    </tr>\n",
       "    <tr>\n",
       "      <th>1668</th>\n",
       "      <td>1670</td>\n",
       "      <td>Tainted</td>\n",
       "      <td>01-Feb-1998</td>\n",
       "      <td>0</td>\n",
       "      <td>0</td>\n",
       "      <td>0</td>\n",
       "      <td>0</td>\n",
       "      <td>0</td>\n",
       "      <td>1</td>\n",
       "      <td>0</td>\n",
       "      <td>...</td>\n",
       "      <td>0</td>\n",
       "      <td>0</td>\n",
       "      <td>0</td>\n",
       "      <td>0</td>\n",
       "      <td>0</td>\n",
       "      <td>0</td>\n",
       "      <td>0</td>\n",
       "      <td>1</td>\n",
       "      <td>0</td>\n",
       "      <td>0</td>\n",
       "    </tr>\n",
       "    <tr>\n",
       "      <th>1671</th>\n",
       "      <td>1673</td>\n",
       "      <td>Mirage</td>\n",
       "      <td>01-Jan-1995</td>\n",
       "      <td>0</td>\n",
       "      <td>1</td>\n",
       "      <td>0</td>\n",
       "      <td>0</td>\n",
       "      <td>0</td>\n",
       "      <td>0</td>\n",
       "      <td>0</td>\n",
       "      <td>...</td>\n",
       "      <td>0</td>\n",
       "      <td>0</td>\n",
       "      <td>0</td>\n",
       "      <td>0</td>\n",
       "      <td>0</td>\n",
       "      <td>0</td>\n",
       "      <td>0</td>\n",
       "      <td>1</td>\n",
       "      <td>0</td>\n",
       "      <td>0</td>\n",
       "    </tr>\n",
       "    <tr>\n",
       "      <th>1677</th>\n",
       "      <td>1679</td>\n",
       "      <td>B. Monkey</td>\n",
       "      <td>06-Feb-1998</td>\n",
       "      <td>0</td>\n",
       "      <td>0</td>\n",
       "      <td>0</td>\n",
       "      <td>0</td>\n",
       "      <td>0</td>\n",
       "      <td>0</td>\n",
       "      <td>0</td>\n",
       "      <td>...</td>\n",
       "      <td>0</td>\n",
       "      <td>0</td>\n",
       "      <td>0</td>\n",
       "      <td>0</td>\n",
       "      <td>0</td>\n",
       "      <td>1</td>\n",
       "      <td>0</td>\n",
       "      <td>1</td>\n",
       "      <td>0</td>\n",
       "      <td>0</td>\n",
       "    </tr>\n",
       "    <tr>\n",
       "      <th>1678</th>\n",
       "      <td>1680</td>\n",
       "      <td>Sliding Doors</td>\n",
       "      <td>01-Jan-1998</td>\n",
       "      <td>0</td>\n",
       "      <td>0</td>\n",
       "      <td>0</td>\n",
       "      <td>0</td>\n",
       "      <td>0</td>\n",
       "      <td>0</td>\n",
       "      <td>0</td>\n",
       "      <td>...</td>\n",
       "      <td>0</td>\n",
       "      <td>0</td>\n",
       "      <td>0</td>\n",
       "      <td>0</td>\n",
       "      <td>0</td>\n",
       "      <td>1</td>\n",
       "      <td>0</td>\n",
       "      <td>0</td>\n",
       "      <td>0</td>\n",
       "      <td>0</td>\n",
       "    </tr>\n",
       "  </tbody>\n",
       "</table>\n",
       "<p>849 rows × 22 columns</p>\n",
       "</div>"
      ],
      "text/plain": [
       "      movie id         movie title release date  unknown  Action  Adventure  \\\n",
       "0            1          Toy Story   01-Jan-1995        0       0          0   \n",
       "1            2          GoldenEye   01-Jan-1995        0       1          1   \n",
       "3            4         Get Shorty   01-Jan-1995        0       1          0   \n",
       "4            5            Copycat   01-Jan-1995        0       0          0   \n",
       "6            7     Twelve Monkeys   01-Jan-1995        0       0          0   \n",
       "...        ...                 ...          ...      ...     ...        ...   \n",
       "1667      1669  MURDER and murder   20-Jun-1997        0       0          0   \n",
       "1668      1670            Tainted   01-Feb-1998        0       0          0   \n",
       "1671      1673             Mirage   01-Jan-1995        0       1          0   \n",
       "1677      1679          B. Monkey   06-Feb-1998        0       0          0   \n",
       "1678      1680      Sliding Doors   01-Jan-1998        0       0          0   \n",
       "\n",
       "      Animation  Childrens  Comedy  Crime  ...  Fantasy  Film-Noir  Horror  \\\n",
       "0             1          1       1      0  ...        0          0       0   \n",
       "1             0          0       0      0  ...        0          0       0   \n",
       "3             0          0       1      0  ...        0          0       0   \n",
       "4             0          0       0      1  ...        0          0       0   \n",
       "6             0          0       0      0  ...        0          0       0   \n",
       "...         ...        ...     ...    ...  ...      ...        ...     ...   \n",
       "1667          0          0       0      1  ...        0          0       0   \n",
       "1668          0          0       1      0  ...        0          0       0   \n",
       "1671          0          0       0      0  ...        0          0       0   \n",
       "1677          0          0       0      0  ...        0          0       0   \n",
       "1678          0          0       0      0  ...        0          0       0   \n",
       "\n",
       "      Musical  Mystery  Romance  Sci-Fi  Thriller  War  Western  \n",
       "0           0        0        0       0         0    0        0  \n",
       "1           0        0        0       0         1    0        0  \n",
       "3           0        0        0       0         0    0        0  \n",
       "4           0        0        0       0         1    0        0  \n",
       "6           0        0        0       1         0    0        0  \n",
       "...       ...      ...      ...     ...       ...  ...      ...  \n",
       "1667        0        1        0       0         0    0        0  \n",
       "1668        0        0        0       0         1    0        0  \n",
       "1671        0        0        0       0         1    0        0  \n",
       "1677        0        0        1       0         1    0        0  \n",
       "1678        0        0        1       0         0    0        0  \n",
       "\n",
       "[849 rows x 22 columns]"
      ]
     },
     "execution_count": 34,
     "metadata": {},
     "output_type": "execute_result"
    }
   ],
   "source": [
    "#hint: use sum on the axis = 1\n",
    "\n",
    "columns = list(movies_df)\n",
    "genres = columns[3:]\n",
    "\n",
    "movies_df[movies_df[genres].sum(axis=1) > 1]"
   ]
  },
  {
   "cell_type": "markdown",
   "metadata": {},
   "source": [
    "#### 6. Drop the movie where the genre is unknown - 2.5 marks"
   ]
  },
  {
   "cell_type": "code",
   "execution_count": 35,
   "metadata": {},
   "outputs": [],
   "source": [
    "movies_df = movies_df[movies_df.unknown == 0]"
   ]
  },
  {
   "cell_type": "markdown",
   "metadata": {},
   "source": [
    "### 7. Univariate plots of columns: 'rating', 'Age', 'release year', 'Gender' and 'Occupation' - 10 marks"
   ]
  },
  {
   "cell_type": "code",
   "execution_count": 36,
   "metadata": {},
   "outputs": [],
   "source": [
    "# HINT: use distplot for age and countplot for gender,ratings,occupation.\n",
    "# HINT: Please refer to the below snippet to understand how to get to release year from release date. You can use str.split()\n",
    "# as depicted below\n",
    "# Hint : Use displot without kde for release year or line plot showing year wise count."
   ]
  },
  {
   "cell_type": "code",
   "execution_count": 37,
   "metadata": {},
   "outputs": [
    {
     "name": "stdout",
     "output_type": "stream",
     "text": [
      "brown\n",
      "brown\n",
      "brown\n"
     ]
    }
   ],
   "source": [
    "a = 'My*cat*is*brown'\n",
    "print(a.split('*')[3])\n",
    "\n",
    "#similarly, the release year needs to be taken out from release date\n",
    "\n",
    "#also you can simply slice existing string to get the desired data, if we want to take out the colour of the cat\n",
    "\n",
    "print(a[10:])\n",
    "print(a[-5:])"
   ]
  },
  {
   "cell_type": "code",
   "execution_count": 38,
   "metadata": {},
   "outputs": [
    {
     "data": {
      "image/png": "[encoded data removed]",
      "text/plain": [
       "<Figure size 432x288 with 1 Axes>"
      ]
     },
     "metadata": {
      "needs_background": "light"
     },
     "output_type": "display_data"
    }
   ],
   "source": [
    "#your answers here\n",
    "sns.distplot(users_df.age);"
   ]
  },
  {
   "cell_type": "code",
   "execution_count": 39,
   "metadata": {},
   "outputs": [
    {
     "data": {
      "image/png": "[encoded data removed]",
      "text/plain": [
       "<Figure size 432x288 with 1 Axes>"
      ]
     },
     "metadata": {
      "needs_background": "light"
     },
     "output_type": "display_data"
    }
   ],
   "source": [
    "sns.countplot(users_df.gender);"
   ]
  },
  {
   "cell_type": "code",
   "execution_count": 40,
   "metadata": {},
   "outputs": [
    {
     "data": {
      "image/png": "[encoded data removed]",
      "text/plain": [
       "<Figure size 432x288 with 1 Axes>"
      ]
     },
     "metadata": {
      "needs_background": "light"
     },
     "output_type": "display_data"
    }
   ],
   "source": [
    "sns.countplot(user_ratings_df.rating);"
   ]
  },
  {
   "cell_type": "code",
   "execution_count": 41,
   "metadata": {},
   "outputs": [
    {
     "data": {
      "image/png": "[encoded data removed]",
      "text/plain": [
       "<Figure size 432x288 with 1 Axes>"
      ]
     },
     "metadata": {
      "needs_background": "light"
     },
     "output_type": "display_data"
    }
   ],
   "source": [
    "occupation_plot = sns.countplot(users_df.occupation)\n",
    "occupation_plot.set_xticklabels(occupation_plot.get_xticklabels(), rotation=90);"
   ]
  },
  {
   "cell_type": "markdown",
   "metadata": {},
   "source": [
    "### 8. Visualize how popularity of genres has changed over the years - 10 marks\n",
    "\n",
    "Note that you need to use the number of releases in a year as a parameter of popularity of a genre"
   ]
  },
  {
   "cell_type": "markdown",
   "metadata": {},
   "source": [
    "Hint \n",
    "\n",
    "1: you need to reach to a data frame where the release year is the index and the genre is the column names (one cell shows the number of release in a year in one genre) or vice versa.\n",
    "Once that is achieved, you can either use univariate plots or can use the heatmap to visualise all the changes over the years \n",
    "in one go. \n",
    "\n",
    "Hint 2: Use groupby on the relevant column and use sum() on the same to find out the nuumber of releases in a year/genre.  "
   ]
  },
  {
   "cell_type": "code",
   "execution_count": 53,
   "metadata": {},
   "outputs": [
    {
     "data": {
      "image/png": "[encoded data removed]",
      "text/plain": [
       "<Figure size 1440x504 with 2 Axes>"
      ]
     },
     "metadata": {
      "needs_background": "light"
     },
     "output_type": "display_data"
    }
   ],
   "source": [
    "#Your answer here\n",
    "plt.figure(figsize=(20,7))\n",
    "movies_df['release_year'] = movies_df['release date'].apply(lambda release_date: release_date.split('-')[2]) \n",
    "genre_years_sum = movies_df[genres + ['release_year']].sort_values('release_year').groupby(['release_year']).sum()\n",
    "sns.heatmap(genre_years_sum.T);"
   ]
  },
  {
   "cell_type": "markdown",
   "metadata": {},
   "source": [
    "### 9. Find the top 25 movies according to average ratings such that each movie has number of ratings more than 100 - 10 marks\n",
    "\n",
    "Hint : \n",
    "1. First find the movies that have more than 100 ratings(use merge, groupby and count). Extract the movie titles in a list.\n",
    "2. Find the average rating of all the movies and sort them in the descending order. You will have to use the .merge() function to reach to a data set through which you can get the names and the average rating.\n",
    "3. Use isin(list obtained from 1) to filter out the movies which have more than 100 ratings.\n",
    "\n",
    "Note: This question will need you to research about groupby and apply your findings. You can find more on groupby on https://realpython.com/pandas-groupby/."
   ]
  },
  {
   "cell_type": "code",
   "execution_count": 56,
   "metadata": {},
   "outputs": [
    {
     "data": {
      "text/plain": [
       "movie title\n",
       "Close Shave, A                                                          4.5\n",
       "Schindler's List                                                        4.5\n",
       "Wrong Trousers, The                                                     4.5\n",
       "Casablanca                                                              4.5\n",
       "Shawshank Redemption, The                                               4.4\n",
       "Rear Window                                                             4.4\n",
       "Usual Suspects, The                                                     4.4\n",
       "Star Wars                                                               4.4\n",
       "12 Angry Men                                                            4.3\n",
       "Citizen Kane                                                            4.3\n",
       "To Kill a Mockingbird                                                   4.3\n",
       "One Flew Over the Cuckoo's Nest                                         4.3\n",
       "Silence of the Lambs, The                                               4.3\n",
       "North by Northwest                                                      4.3\n",
       "Godfather, The                                                          4.3\n",
       "Secrets & Lies                                                          4.3\n",
       "Good Will Hunting                                                       4.3\n",
       "Manchurian Candidate, The                                               4.3\n",
       "Dr. Strangelove or: How I Learned to Stop Worrying and Love the Bomb    4.3\n",
       "Raiders of the Lost Ark                                                 4.3\n",
       "Vertigo                                                                 4.3\n",
       "Titanic                                                                 4.2\n",
       "Lawrence of Arabia                                                      4.2\n",
       "Maltese Falcon, The                                                     4.2\n",
       "Empire Strikes Back, The                                                4.2\n",
       "Name: rating, dtype: float64"
      ]
     },
     "execution_count": 56,
     "metadata": {},
     "output_type": "execute_result"
    }
   ],
   "source": [
    "#your answer here\n",
    "\n",
    "movie_ratings_df = pd.merge(user_ratings_df, movies_df, on=\"movie id\", how=\"inner\")\n",
    "movie_title_group = movie_ratings_df.groupby('movie title')\n",
    "\n",
    "high_rated_titles = list(movie_title_group.filter(lambda x: x['rating'].count() > 100).groupby('movie title')['rating'].count().index)\n",
    "movie_ratings_df[movie_ratings_df['movie title'].isin(high_rated_titles)]\n",
    "\n",
    "top_title_group = movie_ratings_df[movie_ratings_df['movie title'].isin(high_rated_titles)].groupby('movie title')\n",
    "top_title_group['rating'].mean().sort_values(ascending=False).head(25)"
   ]
  },
  {
   "cell_type": "markdown",
   "metadata": {},
   "source": [
    "### 10. See gender distribution across different genres check for the validity of the below statements - 10 marks\n",
    "\n",
    "* Men watch more drama than women\n",
    "* Women watch more Sci-Fi than men\n",
    "* Men watch more Romance than women\n"
   ]
  },
  {
   "cell_type": "markdown",
   "metadata": {},
   "source": [
    "1. There is no need to conduct statistical tests around this. Just compare the percentages and comment on the validity of the above statements.\n",
    "\n",
    "2. you might want ot use the .sum(), .div() function here.\n",
    "3. Use number of ratings to validate the numbers. For example, if out of 4000 ratings received by women, 3000 are for drama, we will assume that 75% of the women watch drama."
   ]
  },
  {
   "cell_type": "markdown",
   "metadata": {},
   "source": [
    "#### Conclusion:\n",
    "\n"
   ]
  },
  {
   "cell_type": "code",
   "execution_count": 44,
   "metadata": {},
   "outputs": [
    {
     "name": "stdout",
     "output_type": "stream",
     "text": [
      "38.90% of men watch Drama\n",
      "42.77% of women watch Drama\n",
      "--------------------------------------------\n",
      "Men watch more drama than women: False\n",
      "\n",
      "13.60% of men watch Sci-Fi\n",
      "10.21% of women watch Sci-Fi\n",
      "--------------------------------------------\n",
      "Women watch more Sci-Fi than men: False\n",
      "\n",
      "18.32% of men watch Romance\n",
      "22.76% of women watch Romance\n",
      "--------------------------------------------\n",
      "Men watch more Romance than women: False\n",
      "\n"
     ]
    }
   ],
   "source": [
    "movie_ratings_df = pd.merge(user_ratings_df, movies_df, on=\"movie id\", how=\"inner\")\n",
    "movielens_df = pd.merge(movie_ratings_df, users_df, on=\"user id\", how=\"inner\")\n",
    "movielens_df.head()\n",
    "\n",
    "total_ratings_by_men = len(movielens_df[movielens_df['gender'] == \"M\"])\n",
    "total_ratings_by_women = len(movielens_df[movielens_df['gender'] == \"F\"])\n",
    "\n",
    "drama_movies = movielens_df[movielens_df['Drama'] == True]\n",
    "drama_movies_watched_by_men = movielens_df[(movielens_df['Drama'] == True) & (movielens_df['gender'] == \"M\")]\n",
    "drama_movies_watched_by_women = movielens_df[(movielens_df['Drama'] == True) & (movielens_df['gender'] == \"F\")]\n",
    "\n",
    "percentage_of_drama_watched_by_men = (len(drama_movies_watched_by_men) / total_ratings_by_men) * 100\n",
    "percentage_of_drama_watched_by_women = (len(drama_movies_watched_by_women) / total_ratings_by_women) * 100\n",
    "\n",
    "print('{:.2f}% of men watch Drama'.format(percentage_of_drama_watched_by_men))\n",
    "print('{:.2f}% of women watch Drama'.format(percentage_of_drama_watched_by_women))\n",
    "print('--------------------------------------------')\n",
    "print('Men watch more drama than women: {}'.format(percentage_of_drama_watched_by_men > percentage_of_drama_watched_by_women))\n",
    "print('')\n",
    "\n",
    "scifi_movies = movielens_df[movielens_df['Sci-Fi'] == True]\n",
    "scifi_movies_watched_by_men = movielens_df[(movielens_df['Sci-Fi'] == True) & (movielens_df['gender'] == \"M\")]\n",
    "scifi_movies_watched_by_women = movielens_df[(movielens_df['Sci-Fi'] == True) & (movielens_df['gender'] == \"F\")]\n",
    "\n",
    "percentage_of_scifi_watched_by_men = (len(scifi_movies_watched_by_men) / total_ratings_by_men) * 100\n",
    "percentage_of_scifi_watched_by_women = (len(scifi_movies_watched_by_women) / total_ratings_by_women) * 100\n",
    "\n",
    "print('{:.2f}% of men watch Sci-Fi'.format(percentage_of_scifi_watched_by_men))\n",
    "print('{:.2f}% of women watch Sci-Fi'.format(percentage_of_scifi_watched_by_women))\n",
    "print('--------------------------------------------')\n",
    "print('Women watch more Sci-Fi than men: {}'.format(percentage_of_scifi_watched_by_women > percentage_of_scifi_watched_by_men))\n",
    "print('')\n",
    "\n",
    "romance_movies = movielens_df[movielens_df['Romance'] == True]\n",
    "romance_movies_watched_by_men = movielens_df[(movielens_df['Romance'] == True) & (movielens_df['gender'] == \"M\")]\n",
    "romance_movies_watched_by_women = movielens_df[(movielens_df['Romance'] == True) & (movielens_df['gender'] == \"F\")]\n",
    "\n",
    "percentage_of_romance_watched_by_men = (len(romance_movies_watched_by_men) / total_ratings_by_men) * 100\n",
    "percentage_of_romance_watched_by_women = (len(romance_movies_watched_by_women) / total_ratings_by_women) * 100\n",
    "\n",
    "print('{:.2f}% of men watch Romance'.format(percentage_of_romance_watched_by_men))\n",
    "print('{:.2f}% of women watch Romance'.format(percentage_of_romance_watched_by_women))\n",
    "print('--------------------------------------------')\n",
    "print('Men watch more Romance than women: {}'.format(percentage_of_romance_watched_by_men > percentage_of_romance_watched_by_women))\n",
    "print('')\n"
   ]
  },
  {
   "cell_type": "code",
   "execution_count": 63,
   "metadata": {},
   "outputs": [
    {
     "data": {
      "text/html": [
       "<div>\n",
       "<style scoped>\n",
       "    .dataframe tbody tr th:only-of-type {\n",
       "        vertical-align: middle;\n",
       "    }\n",
       "\n",
       "    .dataframe tbody tr th {\n",
       "        vertical-align: top;\n",
       "    }\n",
       "\n",
       "    .dataframe thead th {\n",
       "        text-align: right;\n",
       "    }\n",
       "</style>\n",
       "<table border=\"1\" class=\"dataframe\">\n",
       "  <thead>\n",
       "    <tr style=\"text-align: right;\">\n",
       "      <th></th>\n",
       "      <th>user id</th>\n",
       "      <th>movie id</th>\n",
       "      <th>rating</th>\n",
       "      <th>timestamp</th>\n",
       "      <th>unknown</th>\n",
       "      <th>Action</th>\n",
       "      <th>Adventure</th>\n",
       "      <th>Animation</th>\n",
       "      <th>Childrens</th>\n",
       "      <th>Comedy</th>\n",
       "      <th>...</th>\n",
       "      <th>Film-Noir</th>\n",
       "      <th>Horror</th>\n",
       "      <th>Musical</th>\n",
       "      <th>Mystery</th>\n",
       "      <th>Romance</th>\n",
       "      <th>Sci-Fi</th>\n",
       "      <th>Thriller</th>\n",
       "      <th>War</th>\n",
       "      <th>Western</th>\n",
       "      <th>age</th>\n",
       "    </tr>\n",
       "    <tr>\n",
       "      <th>gender</th>\n",
       "      <th></th>\n",
       "      <th></th>\n",
       "      <th></th>\n",
       "      <th></th>\n",
       "      <th></th>\n",
       "      <th></th>\n",
       "      <th></th>\n",
       "      <th></th>\n",
       "      <th></th>\n",
       "      <th></th>\n",
       "      <th></th>\n",
       "      <th></th>\n",
       "      <th></th>\n",
       "      <th></th>\n",
       "      <th></th>\n",
       "      <th></th>\n",
       "      <th></th>\n",
       "      <th></th>\n",
       "      <th></th>\n",
       "      <th></th>\n",
       "      <th></th>\n",
       "    </tr>\n",
       "  </thead>\n",
       "  <tbody>\n",
       "    <tr>\n",
       "      <th>F</th>\n",
       "      <td>12225832</td>\n",
       "      <td>11452645</td>\n",
       "      <td>90894</td>\n",
       "      <td>22748573259055</td>\n",
       "      <td>0</td>\n",
       "      <td>5442</td>\n",
       "      <td>3141</td>\n",
       "      <td>995</td>\n",
       "      <td>2232</td>\n",
       "      <td>8068</td>\n",
       "      <td>...</td>\n",
       "      <td>385</td>\n",
       "      <td>1197</td>\n",
       "      <td>1442</td>\n",
       "      <td>1314</td>\n",
       "      <td>5858</td>\n",
       "      <td>2629</td>\n",
       "      <td>5086</td>\n",
       "      <td>2189</td>\n",
       "      <td>371</td>\n",
       "      <td>831719</td>\n",
       "    </tr>\n",
       "    <tr>\n",
       "      <th>M</th>\n",
       "      <td>34019655</td>\n",
       "      <td>31096592</td>\n",
       "      <td>262060</td>\n",
       "      <td>65595552186588</td>\n",
       "      <td>0</td>\n",
       "      <td>20147</td>\n",
       "      <td>10612</td>\n",
       "      <td>2610</td>\n",
       "      <td>4950</td>\n",
       "      <td>21764</td>\n",
       "      <td>...</td>\n",
       "      <td>1348</td>\n",
       "      <td>4120</td>\n",
       "      <td>3512</td>\n",
       "      <td>3931</td>\n",
       "      <td>13603</td>\n",
       "      <td>10101</td>\n",
       "      <td>16786</td>\n",
       "      <td>7209</td>\n",
       "      <td>1483</td>\n",
       "      <td>2464992</td>\n",
       "    </tr>\n",
       "  </tbody>\n",
       "</table>\n",
       "<p>2 rows × 24 columns</p>\n",
       "</div>"
      ],
      "text/plain": [
       "         user id  movie id  rating       timestamp  unknown  Action  \\\n",
       "gender                                                                \n",
       "F       12225832  11452645   90894  22748573259055        0    5442   \n",
       "M       34019655  31096592  262060  65595552186588        0   20147   \n",
       "\n",
       "        Adventure  Animation  Childrens  Comedy  ...  Film-Noir  Horror  \\\n",
       "gender                                           ...                      \n",
       "F            3141        995       2232    8068  ...        385    1197   \n",
       "M           10612       2610       4950   21764  ...       1348    4120   \n",
       "\n",
       "        Musical  Mystery  Romance  Sci-Fi  Thriller   War  Western      age  \n",
       "gender                                                                       \n",
       "F          1442     1314     5858    2629      5086  2189      371   831719  \n",
       "M          3512     3931    13603   10101     16786  7209     1483  2464992  \n",
       "\n",
       "[2 rows x 24 columns]"
      ]
     },
     "execution_count": 63,
     "metadata": {},
     "output_type": "execute_result"
    }
   ],
   "source": [
    "genre_by_gender = movielens_df.groupby('gender').sum()\n",
    "genre_by_gender.head()"
   ]
  },
  {
   "cell_type": "code",
   "execution_count": null,
   "metadata": {},
   "outputs": [],
   "source": []
  }
 ],
 "metadata": {
  "kernelspec": {
   "display_name": "Python 3",
   "language": "python",
   "name": "python3"
  },
  "language_info": {
   "codemirror_mode": {
    "name": "ipython",
    "version": 3
   },
   "file_extension": ".py",
   "mimetype": "text/x-python",
   "name": "python",
   "nbconvert_exporter": "python",
   "pygments_lexer": "ipython3",
   "version": "3.7.6"
  }
 },
 "nbformat": 4,
 "nbformat_minor": 4
}
